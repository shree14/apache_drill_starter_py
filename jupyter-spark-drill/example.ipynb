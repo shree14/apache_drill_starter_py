{
 "cells": [
  {
   "cell_type": "code",
   "execution_count": 2,
   "metadata": {},
   "outputs": [],
   "source": [
    "import pyodbc \n",
    "import re\n"
   ]
  },
  {
   "cell_type": "code",
   "execution_count": 3,
   "metadata": {},
   "outputs": [],
   "source": [
    "MY_DSN = \"\"\"\n",
    "Driver                     = /opt/mapr/drill/lib/64/libdrillodbc_sb64.so\n",
    "ConnectionType             = Zookeeper\n",
    "ZKQuorum                   = zoo:2181\n",
    "ZKClusterID                = /drill/drillbits1\n",
    "AuthenticationType         = No Authentication\n",
    "TimestampTZDisplayTimezone = utc\n",
    "ExcludedSchemas            = sys,INFORMATION_SCHEMA\n",
    "Root                       = \"\"\n",
    "\"\"\"\n"
   ]
  },
  {
   "cell_type": "code",
   "execution_count": 4,
   "metadata": {},
   "outputs": [],
   "source": [
    "MY_DSN = \";\".join(\n",
    "    [re.sub(r'(\\t+|\\s+)=\\s+', '=', i) for i in MY_DSN.split('\\n') if i != '']\n",
    ")\n",
    "MY_DSN\n",
    "conn = pyodbc.connect(MY_DSN, autocommit=True)\n",
    "cursor = conn.cursor()"
   ]
  },
  {
   "cell_type": "code",
   "execution_count": 5,
   "metadata": {},
   "outputs": [
    {
     "data": {
      "text/plain": [
       "<pyodbc.Cursor at 0x7f7035afdbb0>"
      ]
     },
     "execution_count": 5,
     "metadata": {},
     "output_type": "execute_result"
    }
   ],
   "source": [
    "cursor.execute(\"show databases\")"
   ]
  },
  {
   "cell_type": "code",
   "execution_count": 6,
   "metadata": {},
   "outputs": [
    {
     "data": {
      "text/plain": [
       "[('cp.default', ),\n",
       " ('dfs.default', ),\n",
       " ('dfs.root', ),\n",
       " ('dfs.tmp', ),\n",
       " ('information_schema', ),\n",
       " ('sys', )]"
      ]
     },
     "execution_count": 6,
     "metadata": {},
     "output_type": "execute_result"
    }
   ],
   "source": [
    "cursor.fetchall()"
   ]
  },
  {
   "cell_type": "code",
   "execution_count": null,
   "metadata": {},
   "outputs": [],
   "source": [
    "from pyspark.sql import SparkSession"
   ]
  },
  {
   "cell_type": "code",
   "execution_count": null,
   "metadata": {},
   "outputs": [],
   "source": [
    "spark = SparkSession.builder.appName(__name__).master(\"local\").getOrCreate()"
   ]
  },
  {
   "cell_type": "code",
   "execution_count": null,
   "metadata": {},
   "outputs": [],
   "source": [
    "hdfs_file_path = ''' Enter your file name '''\n",
    "\n",
    "df = spark.read.format(\"jdbc\").option(\"url\", \"jdbc:drill:zk=zoo;\").option(\"driver\",\"org.apache.drill.jdbc.Driver\").option(\"query\", f'select * from dfs.root.`{hdfs_file_path}`').load()\n"
   ]
  },
  {
   "cell_type": "code",
   "execution_count": null,
   "metadata": {},
   "outputs": [],
   "source": [
    "df.show()"
   ]
  }
 ],
 "metadata": {
  "kernelspec": {
   "display_name": "Python 3",
   "language": "python",
   "name": "python3"
  },
  "language_info": {
   "codemirror_mode": {
    "name": "ipython",
    "version": 3
   },
   "file_extension": ".py",
   "mimetype": "text/x-python",
   "name": "python",
   "nbconvert_exporter": "python",
   "pygments_lexer": "ipython3",
   "version": "3.7.6"
  }
 },
 "nbformat": 4,
 "nbformat_minor": 4
}